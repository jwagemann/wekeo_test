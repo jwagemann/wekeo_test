{
 "cells": [
  {
   "cell_type": "markdown",
   "metadata": {},
   "source": [
    "<center><img src='../../img/ai4eo_logos.jpg' alt='Logos AI4EO MOOC' width='80%'></img></center>"
   ]
  },
  {
   "cell_type": "markdown",
   "metadata": {},
   "source": [
    "<hr>"
   ]
  },
  {
   "cell_type": "markdown",
   "metadata": {},
   "source": [
    "<br>"
   ]
  },
  {
   "cell_type": "markdown",
   "metadata": {},
   "source": [
    "<a href=\"https://www.futurelearn.com/courses/artificial-intelligence-for-earth-monitoring/1/steps/1212878\"><< Back to FutureLearn</a><br>"
   ]
  },
  {
   "cell_type": "markdown",
   "metadata": {},
   "source": [
    "# Global cloud classification with CUMULO"
   ]
  },
  {
   "cell_type": "markdown",
   "metadata": {},
   "source": [
    "<i>by Valentina Zantendeschi, INRIA and University College London</i>"
   ]
  },
  {
   "cell_type": "markdown",
   "metadata": {},
   "source": [
    "<hr>"
   ]
  },
  {
   "cell_type": "markdown",
   "metadata": {},
   "source": [
    "## Watch the video tutorial"
   ]
  },
  {
   "cell_type": "code",
   "execution_count": 1,
   "metadata": {},
   "outputs": [
    {
     "data": {
      "text/html": [
       "<div align=\"center\"><iframe src=\"https://player.vimeo.com/video/631909930?h=c149fd6c17\" width=\"640\" height=\"360\" frameborder=\"0\" allow=\"autoplay; fullscreen; picture-in-picture\" allowfullscreen align=\"middle\"></iframe></div>"
      ],
      "text/plain": [
       "<IPython.core.display.HTML object>"
      ]
     },
     "execution_count": 1,
     "metadata": {},
     "output_type": "execute_result"
    }
   ],
   "source": [
    "from IPython.display import HTML\n",
    "HTML('<div align=\"center\"><iframe src=\"https://player.vimeo.com/video/631909930?h=c149fd6c17\" width=\"640\" height=\"360\" frameborder=\"0\" allow=\"autoplay; fullscreen; picture-in-picture\" allowfullscreen align=\"middle\"></iframe></div>')     "
   ]
  },
  {
   "cell_type": "markdown",
   "metadata": {},
   "source": [
    "<br>"
   ]
  },
  {
   "cell_type": "markdown",
   "metadata": {},
   "source": [
    "<hr>"
   ]
  },
  {
   "cell_type": "markdown",
   "metadata": {},
   "source": [
    "## Introduction"
   ]
  },
  {
   "cell_type": "markdown",
   "metadata": {},
   "source": [
    "Modelling clouds and understanding their interactions with the climate system is one of the key problems for reducing uncertainty in future climate projections. An important first step in reducing this uncertainty is to accurately classify cloud types at high spatial and temporal resolution.\n",
    "\n",
    "In this workflow, we are going to train a Machine Learning model (`Gradient Boosting of Decision Trees`) for classifying clouds into one of the eight [World Meteorological Organization (WMO) genera](https://cloudatlas.wmo.int/en/clouds-genera.html).\n",
    "\n",
    "This workflow makes use of [CUMULO](https://github.com/FrontierDevelopmentLab/CUMULO), a dataset that provides **hyperspectral satellite images** at global scale and **cloud labels** for a subset of pixels (only along the track of the satellite).  "
   ]
  },
  {
   "cell_type": "markdown",
   "metadata": {},
   "source": [
    "## Machine Learning algorithm"
   ]
  },
  {
   "cell_type": "markdown",
   "metadata": {},
   "source": [
    "This workflow makes use of [LightGBM](https://lightgbm.readthedocs.io/en/latest/index.html), a gradient boosting framework that uses ensembles of tree-based learning algorithms. We choose this approach as it is computationally efficient and it provides models with high accuracy.\n",
    "\n",
    "Given the small number of labels, we train a model at a pixel level and subsample data (**tiles**) in the labelled region.\n",
    "More precisely, we use the `LightGBM` framework to build a set of decision trees and combine their predictions to fit the problem. This is done by iteratively updating the current model by minimizing the chosen objective function (the average loss on the training sample). At each iteration, `LightGBM` grows decision trees leaf-wise: it chooses the leaf with the maximal loss improvement and adds children nodes to it, and so on."
   ]
  },
  {
   "cell_type": "markdown",
   "metadata": {},
   "source": [
    "## Data"
   ]
  },
  {
   "cell_type": "markdown",
   "metadata": {},
   "source": [
    "[CUMULO](https://github.com/FrontierDevelopmentLab/CUMULO) is a benchmark dataset for training and evaluating global cloud classification models. It merges two satellite products from [NASA's A-train constellation](https://atrain.nasa.gov/): the [Moderate Resolution Imaging Spectroradiometer (MODIS)](https://modis.gsfc.nasa.gov/about/) onboard the Aqua satellite and the [2B-CLDCLASS-LIDAR product](http://www.cloudsat.cira.colostate.edu/data-products/level-2b/2b-cldclass-lidar) derived from the combination of CloudSat Cloud Profiling Radar (CPR) and CALIPSO Cloud‐Aerosol Lidar with Orthogonal Polarization (CALIOP).\n",
    "\n",
    "* #### MODIS products\n",
    "MODIS products are hyperspectral images (**swaths**) of size 1354 x 2030 pixels saved at a spatial resolution of 1km by 1km. \n",
    "The MODIS detector measures 36 spectral bands (**channels**) between 620 and 14385 nm. Different _cloud properties_ can then be inferred from these channels (e.g. Cloud Temperature or Clouds Top Height), but no cloud labels are available. \n",
    "\n",
    "* #### 2B-CLDCLASS-LIDAR product\n",
    "2B-CLDCLASS-LIDAR provides _cloud labels_ corresponding to the eight World Meteorological Organization (WMO) genera and other useful vertical information. These annotations are derived considering known properties of the WMO cloud types and thanks to the additional instruments. Nevertheless, they are not provided everywhere, but only on pixel-width (1km x 1km) ‘tracks’ of the satellites, with a revisit period of 16 days (no global coverage at 1km resolution is available even after 16 days).\n",
    "\n",
    "<br>\n",
    "\n",
    "Here is an example of one swath: its visible band (left) and its cloud mask (right) with its overlying label mask (the colored pixels in the vertical track).\n",
    "<img src=\"figures/one-swath1.png\" width=60%>\n",
    "\n",
    "CUMULO brings these complementary datasets together, collocating CloudSat and MODIS-Aqua products. It contains over 300k annotated multispectral images at 1km by 1km resolution, providing daily full coverage of the Earth for 2008, 2009 and 2016. CUMULO data is available in netCDF.\n",
    "\n",
    "The cloud layer types are classified as follows:\n",
    "* `0 - Cirrus` \n",
    "* `1 - Altostratus`\n",
    "* `2 - Altocumulus` \n",
    "* `3 - Stratus` \n",
    "* `4 - Stratocumulus` \n",
    "* `5 - Cumulus` \n",
    "* `6 - Nimbostratus` \n",
    "* `7 - Deep Convection` "
   ]
  },
  {
   "cell_type": "markdown",
   "metadata": {},
   "source": [
    "## Further resources"
   ]
  },
  {
   "cell_type": "markdown",
   "metadata": {},
   "source": [
    "* [CUMULO Github repository](https://github.com/FrontierDevelopmentLab/CUMULO)\n",
    "* [CUMULO: A Dataset for Learning Cloud Classification](https://arxiv.org/abs/1911.04227)\n",
    "* [LightGBM - Gradient Boosting Framework by Microsoft](https://lightgbm.readthedocs.io/en/latest/index.html)"
   ]
  },
  {
   "cell_type": "markdown",
   "metadata": {},
   "source": [
    "<hr>"
   ]
  },
  {
   "cell_type": "markdown",
   "metadata": {},
   "source": [
    "## Notebook outline\n"
   ]
  },
  {
   "cell_type": "markdown",
   "metadata": {},
   "source": [
    "* [1 - Data preparation](#data_preparation_6c)\n",
    "* [2 - Data loading](#data_loading_6c)\n",
    "* [3 - Define and train a LightLBM model](#model_setup_6c)\n",
    "* [4 - Predict cloud classes with the trained lightGBM model](#predict_6c)\n",
    "* [5 - Evaluate the model performance](#model_evaluation_6c)\n",
    "\n"
   ]
  },
  {
   "cell_type": "markdown",
   "metadata": {},
   "source": [
    "<hr>"
   ]
  },
  {
   "cell_type": "markdown",
   "metadata": {},
   "source": [
    "#### Import libraries"
   ]
  },
  {
   "cell_type": "code",
   "execution_count": 4,
   "metadata": {},
   "outputs": [],
   "source": [
    "import netCDF4 as nc4\n",
    "import numpy as np\n",
    "\n",
    "from pathlib import Path\n",
    "from tqdm import tqdm\n",
    "\n",
    "import os\n",
    "import sys\n",
    "import glob\n",
    "sys.path.append(\"src/\")\n",
    "from nc_tile_extractor import extract_cloudy_labelled_tiles\n",
    "import zipfile\n",
    "import lightgbm as lgb\n",
    "from loader import CumuloDataset\n",
    "\n",
    "import seaborn as sn\n",
    "import pandas as pd\n",
    "import matplotlib.pyplot as plt\n",
    "\n",
    "from sklearn.model_selection import train_test_split\n",
    "from sklearn.metrics import confusion_matrix\n",
    "from sklearn.metrics import accuracy_score, f1_score\n",
    "\n",
    "import warnings\n",
    "warnings.filterwarnings(\"ignore\")"
   ]
  },
  {
   "cell_type": "markdown",
   "metadata": {},
   "source": [
    "#### <a id='read_nc'></a>Helper function"
   ]
  },
  {
   "cell_type": "code",
   "execution_count": 2,
   "metadata": {},
   "outputs": [],
   "source": [
    "def read_nc(nc_file):\n",
    "    \"\"\"return masked arrays, with masks indicating the invalid values\"\"\"\n",
    "    \n",
    "    file = nc4.Dataset(nc_file, 'r', format='NETCDF4')\n",
    "    \n",
    "    f_radiances = np.vstack([file.variables[name][:] for name in radiances])\n",
    "    f_properties = np.vstack([file.variables[name][:] for name in properties])\n",
    "    f_rois = file.variables[rois][:]\n",
    "    f_labels = file.variables[labels][:]\n",
    "    f_lats = file.variables[coordinates[0]][:]\n",
    "    f_longs = file.variables[coordinates[1]][:]\n",
    "    \n",
    "    file.close()\n",
    "\n",
    "    return f_radiances, f_properties, f_rois, f_labels, f_lats, f_longs"
   ]
  },
  {
   "cell_type": "markdown",
   "metadata": {},
   "source": [
    "<hr>"
   ]
  },
  {
   "cell_type": "markdown",
   "metadata": {},
   "source": [
    "<br>"
   ]
  },
  {
   "cell_type": "markdown",
   "metadata": {},
   "source": [
    "## <a id='data_preparation_6c'></a>1. Data preparation"
   ]
  },
  {
   "cell_type": "markdown",
   "metadata": {},
   "source": [
    "**Note**: This workflow makes use of the [CUMULO](https://www.dropbox.com/sh/6gca7f0mb3b0ikz/AADq2lk4u7k961Qa31FwIDEpa?dl=0) benchmark dataset. A subset of the benchmark dataset required for this workflow is already available in the folder `./DATA/nc/`. If you want to reproduce the example on your local machine, you can download and the data subset with the following command:\n",
    "> curl -L -o month_1_day_18.zip https://www.dropbox.com/sh/6gca7f0mb3b0ikz/AABdbAzfbcCpwEPHbp9zBqWKa/CUMULO/2008/01/018/daylight?dl=1\n"
   ]
  },
  {
   "cell_type": "markdown",
   "metadata": {},
   "source": [
    "In a following step, you can unzip the downloaded `.zip` folder with the following command:"
   ]
  },
  {
   "cell_type": "raw",
   "metadata": {},
   "source": [
    "with zipfile.ZipFile(\"./DATA/nc/month_1_day_18.zip\", 'r') as zip_ref:\n",
    "    zip_ref.extractall(\"./DATA/nc/\")"
   ]
  },
  {
   "cell_type": "markdown",
   "metadata": {},
   "source": [
    "<br>"
   ]
  },
  {
   "cell_type": "markdown",
   "metadata": {},
   "source": [
    "The subset of the CUMULO benchmark dataset consists of 150 files in the `NetCDF` format, following the [CF convention](http://cfconventions.org/Data/cf-conventions/cf-conventions-1.7/cf-conventions.html).\n",
    "\n",
    "There is one NetCDF per swath, one every 5 minutes and at a spatial resolution of 1km by 1km:\n",
    "\n",
    "* **filename** =  AYYYYDDD.HHMM.nc\n",
    "          \n",
    "with \n",
    "* `YYYY` = year\n",
    "* `DDD` = absolute day since 01.01.2008 \n",
    "* `HH` = hour of day\n",
    "* `MM` = minutes\n",
    "\n",
    "The data files are valid for 18 January 2008. Let us open one file and inspect its content. You can open a `netCDF` file with the `Dataset()` constructor of the `netCDF4` library. You can see that each file contains 31 variables."
   ]
  },
  {
   "cell_type": "code",
   "execution_count": 5,
   "metadata": {},
   "outputs": [
    {
     "data": {
      "text/plain": [
       "<class 'netCDF4._netCDF4.Dataset'>\n",
       "root group (NETCDF4 data model, file format HDF5):\n",
       "    history: Created 04/11/19\n",
       "    references: Source code: https://github.com/FrontierDevelopmentLab/CUMULO\n",
       "    status_flag_meanings: Mark the availability of the variables, as certain variables can be measured only at daytime and products can temporarily fail. Possible values \n",
       " daylight -- all radiance variables are complete (filled by nearest point (in time and space) interpolation if required) \n",
       " night -- radiance variables EV_250_Aggr1km_RefSB_1, EV_250_Aggr1km_RefSB_2 and EV_1KM_RefSB_26 are incomplet \n",
       " corrupt -- several radiance variables present missing values that could not be interpolated.\n",
       "    title: CUMULO\n",
       "    comment: A benchmark dataset for training and evaluating global cloud classification models. It merges two satellite products from the A-train constellation (https://atrain.nasa.gov/): the Moderate Resolution Imaging Spectroradiometer (MODIS) from Aqua satellite (https://modis.gsfc.nasa.gov/about/) and the 2B-CLDCLASS-LIDAR product derived from the combination of CloudSat Cloud Profiling Radar (CPR) and CALIPSO Cloud‐Aerosol Lidar with Orthogonal Polarization (CALIOP). Spatial resolution is of 1km by 1km.\n",
       "    version: 1.0\n",
       "    source: NASA MODIS Level 1B Calibrated Radiances Aqua MYD02 (https://modis.gsfc.nasa.gov/data/dataprod/mod02.php), MODIS Level 2 Cloud Product (https://modis.gsfc.nasa.gov/data/dataprod/mod06.php), MODIS Level 2 Cloud Mask (https://modis.gsfc.nasa.gov/data/dataprod/mod35.php), and CloudSat CPR and CALIOP 2B-CLDCLASS-LIDAR R05 (http://www.cloudsat.cira.colostate.edu/data-products/level-2b/2b-cldclass-lidar)\n",
       "    institution: Frontier Development Lab\n",
       "    status_flag: daylight\n",
       "    dimensions(sizes): time(1), x(1354), y(2030), layer(10)\n",
       "    variables(dimensions): int32 time(time), float32 longitude(time, x, y), float32 latitude(time, x, y), float32 ev_1km_emissive_29(time, x, y), float32 ev_1km_emissive_33(time, x, y), float32 ev_1km_emissive_34(time, x, y), float32 ev_1km_emissive_35(time, x, y), float32 ev_1km_emissive_36(time, x, y), float32 ev_1km_emissive_27(time, x, y), float32 ev_1km_emissive_20(time, x, y), float32 ev_1km_emissive_21(time, x, y), float32 ev_1km_emissive_22(time, x, y), float32 ev_1km_emissive_23(time, x, y), float32 ev_250_aggr1km_refsb_1(time, x, y), float32 ev_250_aggr1km_refsb_2(time, x, y), float32 ev_1km_refsb_26(time, x, y), float32 cloud_water_path(time, x, y), float32 cloud_optical_thickness(time, x, y), float32 cloud_effective_radius(time, x, y), float32 cloud_phase_optical_properties(time, x, y), float32 cloud_top_pressure(time, x, y), float32 cloud_top_height(time, x, y), float32 cloud_top_temperature(time, x, y), float32 cloud_emissivity(time, x, y), float32 surface_temperature(time, x, y), int8 cloud_mask(time, x, y), int8 cloud_layer_type(time, x, y, layer), float32 cloud_layer_base(time, x, y, layer), float32 cloud_layer_top(time, x, y, layer), float32 cloud_type_quality(time, x, y, layer), int8 precipitation_flag(time, x, y)\n",
       "    groups: "
      ]
     },
     "execution_count": 5,
     "metadata": {},
     "output_type": "execute_result"
    }
   ],
   "source": [
    "nc_dir = \"DATA/nc/\"\n",
    "nc_files = glob.glob(nc_dir+\"*.nc\")\n",
    "file = nc4.Dataset(nc_files[0], 'r', format='NETCDF4')\n",
    "file"
   ]
  },
  {
   "cell_type": "markdown",
   "metadata": {},
   "source": [
    "<br>"
   ]
  },
  {
   "cell_type": "markdown",
   "metadata": {},
   "source": [
    "CUMULO provides different types of features (**channels**) per georeferenced grid-point. We make use of:\n",
    "* `13 calibrated radiances` as input channels, as they capture the physical properties needed for cloud classification\n",
    "* the available `labels` as groundtruth (one label per tile)\n",
    "* the `cloud_mask` to select which grid-points to analyze (only the cloudy ones) \n",
    "* `cloud properties` for physically validating our model. These channels are derived from the raw radiances and provide higher level properties of a cloud, such as its top pressure, temperature, etc.\n",
    "\n",
    "Here is the list of variables we are interested in:"
   ]
  },
  {
   "cell_type": "code",
   "execution_count": 26,
   "metadata": {},
   "outputs": [],
   "source": [
    "coordinates = ['latitude', 'longitude']\n",
    "radiances = ['ev_250_aggr1km_refsb_1', 'ev_250_aggr1km_refsb_2', 'ev_1km_emissive_29', 'ev_1km_emissive_33', 'ev_1km_emissive_34', 'ev_1km_emissive_35', 'ev_1km_emissive_36', 'ev_1km_refsb_26', 'ev_1km_emissive_27', 'ev_1km_emissive_20', 'ev_1km_emissive_21', 'ev_1km_emissive_22', 'ev_1km_emissive_23']\n",
    "properties = ['cloud_water_path', 'cloud_optical_thickness', 'cloud_effective_radius', 'cloud_phase_optical_properties', 'cloud_top_pressure', 'cloud_top_height', 'cloud_top_temperature', 'cloud_emissivity', 'surface_temperature']\n",
    "rois = 'cloud_mask'\n",
    "labels = 'cloud_layer_type'"
   ]
  },
  {
   "cell_type": "markdown",
   "metadata": {},
   "source": [
    "<br>"
   ]
  },
  {
   "cell_type": "markdown",
   "metadata": {},
   "source": [
    "The next step is to extract from each file tiles with a `3x3 pixel window size`. These tiles will be used as input to the Machine Learning model. The `3x3 pixel tiles` are sampled around each labelled pixel of an image. Thus, tiles might overlap. The tiles shall be stored in the `.npz` format, which is a zipped archive of files, of which each contains one variable in the `.npy` format."
   ]
  },
  {
   "cell_type": "code",
   "execution_count": 27,
   "metadata": {},
   "outputs": [],
   "source": [
    "nc_dir = Path(\"DATA/nc/\")\n",
    "\n",
    "# make directory where tiles will be stored\n",
    "save_dir = Path(\"DATA/npz/\")\n",
    "save_dir.mkdir(parents=True, exist_ok=True)\n",
    "\n",
    "# retrieve all files in netcdf format\n",
    "nc_paths = nc_dir.glob(\"*.nc\")"
   ]
  },
  {
   "cell_type": "markdown",
   "metadata": {},
   "source": [
    "<br>"
   ]
  },
  {
   "cell_type": "markdown",
   "metadata": {},
   "source": [
    "Now, let us go over each netCDF file, and execute the following operations:\n",
    "1. extract the required variables from the netCDF file with the helper function [read_nc()](#read_nc). The function loads a netCDF file and returns four masked arrays with the required `radiances`, `properties`, `cloud_mask` and `cloud_labels`.\n",
    "2. apply the function `extract_cloudy_labelled_tiles`, which extracts all tiles from a cloud area that are labelled. \n",
    "3. save the tile-based `radiances`, `properties`, `cloud_mask`, `cloud_labels` and `location` as uncompressed `.npz` file\n",
    "\n",
    "The `.npz` files are stored under `./DATA/npz/`.\n"
   ]
  },
  {
   "cell_type": "code",
   "execution_count": 28,
   "metadata": {},
   "outputs": [
    {
     "name": "stderr",
     "output_type": "stream",
     "text": [
      "159it [06:02,  2.28s/it]\n"
     ]
    }
   ],
   "source": [
    "for filename in tqdm(nc_paths):\n",
    "    \n",
    "    # load swath variables and label masks\n",
    "    f_radiances, f_properties, f_cloud_mask, f_labels, *_ = read_nc(filename)\n",
    "    \n",
    "    # labelled pixels have at least one non-zero value over the vertical axis\n",
    "    f_label_mask = np.sum(~f_labels.mask, 3) > 0\n",
    "    \n",
    "    # for the purposes of this tutorial, we are going to extract only labelled tiles\n",
    "    try:\n",
    "        labelled_tiles, labelled_positions = extract_cloudy_labelled_tiles((f_radiances, f_properties, f_cloud_mask, f_labels), f_cloud_mask[0], f_label_mask[0])\n",
    "        \n",
    "        name = os.path.basename(filename).replace(\".nc\", \".npz\")\n",
    "\n",
    "        np.savez_compressed(save_dir / name, \n",
    "                            radiances=labelled_tiles[0].data, \n",
    "                            properties=labelled_tiles[1].data, \n",
    "                            cloud_mask=labelled_tiles[2].data, \n",
    "                            labels=labelled_tiles[3].data, \n",
    "                            location=labelled_positions)\n",
    "    \n",
    "    except:\n",
    "        pass"
   ]
  },
  {
   "cell_type": "markdown",
   "metadata": {},
   "source": [
    "<br>"
   ]
  },
  {
   "cell_type": "markdown",
   "metadata": {},
   "source": [
    "## <a id='data_loading_6c'></a>2. Data loading"
   ]
  },
  {
   "cell_type": "markdown",
   "metadata": {},
   "source": [
    "The next step is to load the data for learning the ML cloud classifier. `CumuloDataset()` is a constructor which loads the tiles that we have just extracted. When called, it returns the radiance channels that we use as inputs and the labels that we use as outputs for the `LightLBM` model.\n",
    "\n",
    "As one tile can have multiple labels, `CumuloDataset()` returns only the most frequent one.\n",
    "It requires as arguments:\n",
    "* `root_dir`: the directory where the tiles are stored \n",
    "* `ext`: the extension/format of the files containing the tiles that are going to be read (npz in our case)"
   ]
  },
  {
   "cell_type": "code",
   "execution_count": 7,
   "metadata": {},
   "outputs": [],
   "source": [
    "dataset = CumuloDataset(root_dir='DATA/npz/', ext=\"npz\")\n"
   ]
  },
  {
   "cell_type": "markdown",
   "metadata": {},
   "source": [
    "<br>"
   ]
  },
  {
   "cell_type": "markdown",
   "metadata": {},
   "source": [
    "Afterwards, we want to load all tiles at once and vectorize them, as required by the `LightGBM` model. The result are the following vectorized tiles:\n",
    "* `X` - Radiances as input for the model\n",
    "* `y` - cloud labels as output for the model\n",
    "* `p` - Physical properties which are used later to evaluate the outcomes also on a physical level"
   ]
  },
  {
   "cell_type": "code",
   "execution_count": 8,
   "metadata": {},
   "outputs": [],
   "source": [
    "xs, ys, props = [], [], []\n",
    "\n",
    "for filename, radiances, properties, cloud_mask, labels in dataset:\n",
    "    xs.append(radiances) # radiances\n",
    "    ys.append(labels) # labels\n",
    "    props.append(properties) # we load also the physical properties and use them later on for physical evaluation\n",
    "\n",
    "shape = xs[0].shape\n",
    "X = np.vstack(xs).reshape(-1, shape[1] * shape[2] * shape[3]) # vectorize tiles\n",
    "y = np.hstack(ys)\n",
    "\n",
    "shape = props[0].shape\n",
    "p = np.vstack(props).reshape(-1, shape[1] * shape[2] * shape[3]) # vectorize tiles"
   ]
  },
  {
   "cell_type": "markdown",
   "metadata": {},
   "source": [
    "<br>"
   ]
  },
  {
   "cell_type": "markdown",
   "metadata": {},
   "source": [
    "In total, 63945 tiles were loaded and the shapes of the `input`, `output` and `properties` are the following:"
   ]
  },
  {
   "cell_type": "code",
   "execution_count": 9,
   "metadata": {},
   "outputs": [
    {
     "data": {
      "text/plain": [
       "((63945, 117), (63945,), (63945, 81))"
      ]
     },
     "execution_count": 9,
     "metadata": {},
     "output_type": "execute_result"
    }
   ],
   "source": [
    "X.shape, y.shape, p.shape"
   ]
  },
  {
   "cell_type": "markdown",
   "metadata": {},
   "source": [
    "<br>"
   ]
  },
  {
   "cell_type": "markdown",
   "metadata": {},
   "source": [
    "Now, we can split the input and output variables into subsets for `training`, `validation` and `testing`:\n",
    "* `training data`: is the actual sample used to train the Machine Learning model\n",
    "* `validation data`: used to evaluate a model during training, but the model does not learn from this data\n",
    "* `test data`: used to provide an evaluation of the final model and it is only used when a model is completely trained\n",
    "\n",
    "It is important to define such sets in order to have a correct evaluation of the model performance and to ensure that the model not just simply memorizes its training data.\n",
    "\n",
    "[scikit-learn](https://scikit-learn.org/stable/) offers a function called `train_test_split()` which congruently splits the arrays into two.\n",
    "\n",
    "The function takes the following keyword arguments (kwargs):\n",
    "* `arrays`: input, output data arrays\n",
    "* `test_size`: a float number representing the proportion of the dataset to include in the test subset\n",
    "* `random_state`: An integer assuring reproducibility of the random shuffling of the data  "
   ]
  },
  {
   "cell_type": "markdown",
   "metadata": {},
   "source": [
    "The split resulted in the following subsets: `training: 46040 tiles`, `validation: 5116 tiles` and `testing: 12789 tiles`."
   ]
  },
  {
   "cell_type": "code",
   "execution_count": 13,
   "metadata": {},
   "outputs": [
    {
     "name": "stdout",
     "output_type": "stream",
     "text": [
      "(46040, 117) (46040,) (5116, 117) (5116,) (12789, 117) (12789,)\n"
     ]
    }
   ],
   "source": [
    "# we use 20% of data as test set\n",
    "train_xs, test_xs, train_ys, test_ys = train_test_split(X, y, test_size=0.20, random_state=42)\n",
    "\n",
    "# we use 10% of the remaining data for validation\n",
    "train_xs, val_xs, train_ys, val_ys = train_test_split(train_xs, train_ys, test_size=0.10, random_state=42)\n",
    "\n",
    "print(train_xs.shape, train_ys.shape, val_xs.shape, val_ys.shape, test_xs.shape, test_ys.shape)"
   ]
  },
  {
   "cell_type": "markdown",
   "metadata": {},
   "source": [
    "<br>"
   ]
  },
  {
   "cell_type": "markdown",
   "metadata": {},
   "source": [
    "## <a id='model_setup_6c'></a>3. Define and train a LightGBM model"
   ]
  },
  {
   "cell_type": "markdown",
   "metadata": {},
   "source": [
    "The next step is to load the `lightGBM` library and to convert the `training` and `validation` subsets into a `lightgbm.basic.Dataset`. You can do the conversion with the `Dataset` constructor of the `lightgbm` library. The constructor requires input and output subsets for the model."
   ]
  },
  {
   "cell_type": "code",
   "execution_count": 14,
   "metadata": {},
   "outputs": [],
   "source": [
    "lgb_train = lgb.Dataset(train_xs, train_ys)\n",
    "lgb_valid = lgb.Dataset(val_xs, val_ys)"
   ]
  },
  {
   "cell_type": "markdown",
   "metadata": {},
   "source": [
    "<br>"
   ]
  },
  {
   "cell_type": "markdown",
   "metadata": {},
   "source": [
    "The next step is to specify a set of `hyperparameters`, with which a Machine Learning model can be fine-tuned. LightGBM offers several algorithms and the hyperparameters strongly affect the performance of the model.\n",
    "\n",
    "Let us set the following parameters for the training process:\n",
    "\n",
    "* `boosting_type`: *gbdt* for traditional Gradient Boosting Decision Tree (other algorithms are available too)\n",
    "* `objective`: *multiclass* means we optimize a softmax-based loss over the classes\n",
    "* `num_classes`: *8* as the number of cloud types we want to identify is eight\n",
    "* `num_iterations`: *400* maximal number of iterations, where at each iteration a new decision tree per class is fit onto the problem\n",
    "* `num_leaves`: maximal number of leaves of a tree\n",
    "* `learning_rate`: *0.1* the step value for model update\n",
    "* `verbose`: we set the verbosity level to *0* to print only errors and warnings"
   ]
  },
  {
   "cell_type": "code",
   "execution_count": 15,
   "metadata": {},
   "outputs": [],
   "source": [
    "params = {\n",
    "    'boosting_type': 'gbdt',\n",
    "    'objective': 'multiclass',\n",
    "    'num_classes': 8,\n",
    "    'num_iterations': 400,\n",
    "    'num_leaves': 31,\n",
    "    'learning_rate': 0.1,\n",
    "    'verbose': 0,\n",
    "}"
   ]
  },
  {
   "cell_type": "markdown",
   "metadata": {},
   "source": [
    "<br>"
   ]
  },
  {
   "cell_type": "markdown",
   "metadata": {},
   "source": [
    "The next step is to run the algorithm on the training data subset, based on the hyperparameters defined above. You can use the function `train()` from the `lightGBM` library. The functions takes the following keyword arguments:\n",
    "* `params`: defined hyperparameters\n",
    "* `dataset`: training data subset\n",
    "* `valid_sets`: validation data subset\n",
    "\n",
    "The validation dataset is used in order to select the best performing model based on the performance of this subset. \n",
    "Indeed, the best model is not necessarily the one obtained at the end of the training cycle, as it might have started to memorize the training set which would result in a bad performance during the inference/testing process."
   ]
  },
  {
   "cell_type": "code",
   "execution_count": 16,
   "metadata": {
    "scrolled": true,
    "tags": []
   },
   "outputs": [
    {
     "name": "stdout",
     "output_type": "stream",
     "text": [
      "[LightGBM] [Warning] Auto-choosing col-wise multi-threading, the overhead of testing was 0.013486 seconds.\n",
      "You can set `force_col_wise=true` to remove the overhead.\n",
      "[1]\tvalid_0's multi_logloss: 1.39531\n",
      "[2]\tvalid_0's multi_logloss: 1.27845\n",
      "[3]\tvalid_0's multi_logloss: 1.19207\n",
      "[4]\tvalid_0's multi_logloss: 1.11918\n",
      "[5]\tvalid_0's multi_logloss: 1.06073\n",
      "[6]\tvalid_0's multi_logloss: 1.01149\n",
      "[7]\tvalid_0's multi_logloss: 0.969147\n",
      "[8]\tvalid_0's multi_logloss: 0.934612\n",
      "[9]\tvalid_0's multi_logloss: 0.904023\n",
      "[10]\tvalid_0's multi_logloss: 0.87687\n",
      "[11]\tvalid_0's multi_logloss: 0.852764\n",
      "[12]\tvalid_0's multi_logloss: 0.832791\n",
      "[13]\tvalid_0's multi_logloss: 0.814842\n",
      "[14]\tvalid_0's multi_logloss: 0.798338\n",
      "[15]\tvalid_0's multi_logloss: 0.7826\n",
      "[16]\tvalid_0's multi_logloss: 0.769882\n",
      "[17]\tvalid_0's multi_logloss: 0.757787\n",
      "[18]\tvalid_0's multi_logloss: 0.746473\n",
      "[19]\tvalid_0's multi_logloss: 0.73692\n",
      "[20]\tvalid_0's multi_logloss: 0.727597\n",
      "[21]\tvalid_0's multi_logloss: 0.719662\n",
      "[22]\tvalid_0's multi_logloss: 0.711468\n",
      "[23]\tvalid_0's multi_logloss: 0.703684\n",
      "[24]\tvalid_0's multi_logloss: 0.697277\n",
      "[25]\tvalid_0's multi_logloss: 0.690957\n",
      "[26]\tvalid_0's multi_logloss: 0.685299\n",
      "[27]\tvalid_0's multi_logloss: 0.679407\n",
      "[28]\tvalid_0's multi_logloss: 0.674214\n",
      "[29]\tvalid_0's multi_logloss: 0.668567\n",
      "[30]\tvalid_0's multi_logloss: 0.664885\n",
      "[31]\tvalid_0's multi_logloss: 0.660949\n",
      "[32]\tvalid_0's multi_logloss: 0.656969\n",
      "[33]\tvalid_0's multi_logloss: 0.653352\n",
      "[34]\tvalid_0's multi_logloss: 0.650265\n",
      "[35]\tvalid_0's multi_logloss: 0.646631\n",
      "[36]\tvalid_0's multi_logloss: 0.644132\n",
      "[37]\tvalid_0's multi_logloss: 0.640793\n",
      "[38]\tvalid_0's multi_logloss: 0.63847\n",
      "[39]\tvalid_0's multi_logloss: 0.635311\n",
      "[40]\tvalid_0's multi_logloss: 0.631764\n",
      "[41]\tvalid_0's multi_logloss: 0.629407\n",
      "[42]\tvalid_0's multi_logloss: 0.62597\n",
      "[43]\tvalid_0's multi_logloss: 0.624039\n",
      "[44]\tvalid_0's multi_logloss: 0.620683\n",
      "[45]\tvalid_0's multi_logloss: 0.618742\n",
      "[46]\tvalid_0's multi_logloss: 0.615729\n",
      "[47]\tvalid_0's multi_logloss: 0.613298\n",
      "[48]\tvalid_0's multi_logloss: 0.611812\n",
      "[49]\tvalid_0's multi_logloss: 0.610005\n",
      "[50]\tvalid_0's multi_logloss: 0.607837\n",
      "[51]\tvalid_0's multi_logloss: 0.60656\n",
      "[52]\tvalid_0's multi_logloss: 0.60475\n",
      "[53]\tvalid_0's multi_logloss: 0.60309\n",
      "[54]\tvalid_0's multi_logloss: 0.60173\n",
      "[55]\tvalid_0's multi_logloss: 0.599819\n",
      "[56]\tvalid_0's multi_logloss: 0.597533\n",
      "[57]\tvalid_0's multi_logloss: 0.595321\n",
      "[58]\tvalid_0's multi_logloss: 0.593651\n",
      "[59]\tvalid_0's multi_logloss: 0.591846\n",
      "[60]\tvalid_0's multi_logloss: 0.59044\n",
      "[61]\tvalid_0's multi_logloss: 0.58884\n",
      "[62]\tvalid_0's multi_logloss: 0.587385\n",
      "[63]\tvalid_0's multi_logloss: 0.586299\n",
      "[64]\tvalid_0's multi_logloss: 0.584484\n",
      "[65]\tvalid_0's multi_logloss: 0.583034\n",
      "[66]\tvalid_0's multi_logloss: 0.582036\n",
      "[67]\tvalid_0's multi_logloss: 0.580536\n",
      "[68]\tvalid_0's multi_logloss: 0.578966\n",
      "[69]\tvalid_0's multi_logloss: 0.577934\n",
      "[70]\tvalid_0's multi_logloss: 0.576732\n",
      "[71]\tvalid_0's multi_logloss: 0.575172\n",
      "[72]\tvalid_0's multi_logloss: 0.574097\n",
      "[73]\tvalid_0's multi_logloss: 0.573411\n",
      "[74]\tvalid_0's multi_logloss: 0.572527\n",
      "[75]\tvalid_0's multi_logloss: 0.571172\n",
      "[76]\tvalid_0's multi_logloss: 0.569899\n",
      "[77]\tvalid_0's multi_logloss: 0.568512\n",
      "[78]\tvalid_0's multi_logloss: 0.567539\n",
      "[79]\tvalid_0's multi_logloss: 0.566452\n",
      "[80]\tvalid_0's multi_logloss: 0.565442\n",
      "[81]\tvalid_0's multi_logloss: 0.564548\n",
      "[82]\tvalid_0's multi_logloss: 0.563778\n",
      "[83]\tvalid_0's multi_logloss: 0.562879\n",
      "[84]\tvalid_0's multi_logloss: 0.562418\n",
      "[85]\tvalid_0's multi_logloss: 0.561394\n",
      "[86]\tvalid_0's multi_logloss: 0.560145\n",
      "[87]\tvalid_0's multi_logloss: 0.559277\n",
      "[88]\tvalid_0's multi_logloss: 0.558663\n",
      "[89]\tvalid_0's multi_logloss: 0.55799\n",
      "[90]\tvalid_0's multi_logloss: 0.557075\n",
      "[91]\tvalid_0's multi_logloss: 0.556069\n",
      "[92]\tvalid_0's multi_logloss: 0.555439\n",
      "[93]\tvalid_0's multi_logloss: 0.554545\n",
      "[94]\tvalid_0's multi_logloss: 0.553826\n",
      "[95]\tvalid_0's multi_logloss: 0.553146\n",
      "[96]\tvalid_0's multi_logloss: 0.552333\n",
      "[97]\tvalid_0's multi_logloss: 0.551598\n",
      "[98]\tvalid_0's multi_logloss: 0.550099\n",
      "[99]\tvalid_0's multi_logloss: 0.549511\n",
      "[100]\tvalid_0's multi_logloss: 0.548294\n",
      "[101]\tvalid_0's multi_logloss: 0.547079\n",
      "[102]\tvalid_0's multi_logloss: 0.546473\n",
      "[103]\tvalid_0's multi_logloss: 0.545653\n",
      "[104]\tvalid_0's multi_logloss: 0.545238\n",
      "[105]\tvalid_0's multi_logloss: 0.544614\n",
      "[106]\tvalid_0's multi_logloss: 0.543823\n",
      "[107]\tvalid_0's multi_logloss: 0.543373\n",
      "[108]\tvalid_0's multi_logloss: 0.542511\n",
      "[109]\tvalid_0's multi_logloss: 0.541106\n",
      "[110]\tvalid_0's multi_logloss: 0.540043\n",
      "[111]\tvalid_0's multi_logloss: 0.539348\n",
      "[112]\tvalid_0's multi_logloss: 0.538937\n",
      "[113]\tvalid_0's multi_logloss: 0.538306\n",
      "[114]\tvalid_0's multi_logloss: 0.537741\n",
      "[115]\tvalid_0's multi_logloss: 0.537118\n",
      "[116]\tvalid_0's multi_logloss: 0.536616\n",
      "[117]\tvalid_0's multi_logloss: 0.535973\n",
      "[118]\tvalid_0's multi_logloss: 0.534998\n",
      "[119]\tvalid_0's multi_logloss: 0.534503\n",
      "[120]\tvalid_0's multi_logloss: 0.533262\n",
      "[121]\tvalid_0's multi_logloss: 0.532656\n",
      "[122]\tvalid_0's multi_logloss: 0.531763\n",
      "[123]\tvalid_0's multi_logloss: 0.531031\n",
      "[124]\tvalid_0's multi_logloss: 0.530682\n",
      "[125]\tvalid_0's multi_logloss: 0.530634\n",
      "[126]\tvalid_0's multi_logloss: 0.530219\n",
      "[127]\tvalid_0's multi_logloss: 0.5296\n",
      "[128]\tvalid_0's multi_logloss: 0.529072\n",
      "[129]\tvalid_0's multi_logloss: 0.528483\n",
      "[130]\tvalid_0's multi_logloss: 0.527825\n",
      "[131]\tvalid_0's multi_logloss: 0.527502\n",
      "[132]\tvalid_0's multi_logloss: 0.526794\n",
      "[133]\tvalid_0's multi_logloss: 0.525841\n",
      "[134]\tvalid_0's multi_logloss: 0.525359\n",
      "[135]\tvalid_0's multi_logloss: 0.525672\n",
      "[136]\tvalid_0's multi_logloss: 0.525198\n",
      "[137]\tvalid_0's multi_logloss: 0.524492\n",
      "[138]\tvalid_0's multi_logloss: 0.523637\n",
      "[139]\tvalid_0's multi_logloss: 0.52311\n",
      "[140]\tvalid_0's multi_logloss: 0.522894\n",
      "[141]\tvalid_0's multi_logloss: 0.5223\n",
      "[142]\tvalid_0's multi_logloss: 0.521863\n",
      "[143]\tvalid_0's multi_logloss: 0.521187\n",
      "[144]\tvalid_0's multi_logloss: 0.520706\n",
      "[145]\tvalid_0's multi_logloss: 0.520446\n",
      "[146]\tvalid_0's multi_logloss: 0.519774\n",
      "[147]\tvalid_0's multi_logloss: 0.519369\n",
      "[148]\tvalid_0's multi_logloss: 0.51877\n",
      "[149]\tvalid_0's multi_logloss: 0.518504\n",
      "[150]\tvalid_0's multi_logloss: 0.517637\n",
      "[151]\tvalid_0's multi_logloss: 0.517255\n",
      "[152]\tvalid_0's multi_logloss: 0.516815\n",
      "[153]\tvalid_0's multi_logloss: 0.516382\n",
      "[154]\tvalid_0's multi_logloss: 0.515818\n",
      "[155]\tvalid_0's multi_logloss: 0.51546\n",
      "[156]\tvalid_0's multi_logloss: 0.515098\n",
      "[157]\tvalid_0's multi_logloss: 0.514761\n",
      "[158]\tvalid_0's multi_logloss: 0.514205\n",
      "[159]\tvalid_0's multi_logloss: 0.513863\n",
      "[160]\tvalid_0's multi_logloss: 0.513379\n",
      "[161]\tvalid_0's multi_logloss: 0.51294\n",
      "[162]\tvalid_0's multi_logloss: 0.512475\n",
      "[163]\tvalid_0's multi_logloss: 0.512071\n",
      "[164]\tvalid_0's multi_logloss: 0.51197\n",
      "[165]\tvalid_0's multi_logloss: 0.511935\n",
      "[166]\tvalid_0's multi_logloss: 0.511668\n",
      "[167]\tvalid_0's multi_logloss: 0.511056\n",
      "[168]\tvalid_0's multi_logloss: 0.510732\n",
      "[169]\tvalid_0's multi_logloss: 0.510261\n",
      "[170]\tvalid_0's multi_logloss: 0.510095\n",
      "[171]\tvalid_0's multi_logloss: 0.509634\n",
      "[172]\tvalid_0's multi_logloss: 0.509525\n",
      "[173]\tvalid_0's multi_logloss: 0.508914\n",
      "[174]\tvalid_0's multi_logloss: 0.508411\n",
      "[175]\tvalid_0's multi_logloss: 0.5082\n",
      "[176]\tvalid_0's multi_logloss: 0.508368\n",
      "[177]\tvalid_0's multi_logloss: 0.508267\n",
      "[178]\tvalid_0's multi_logloss: 0.507877\n",
      "[179]\tvalid_0's multi_logloss: 0.507757\n",
      "[180]\tvalid_0's multi_logloss: 0.507462\n",
      "[181]\tvalid_0's multi_logloss: 0.50667\n",
      "[182]\tvalid_0's multi_logloss: 0.506165\n",
      "[183]\tvalid_0's multi_logloss: 0.506019\n",
      "[184]\tvalid_0's multi_logloss: 0.505639\n",
      "[185]\tvalid_0's multi_logloss: 0.505204\n",
      "[186]\tvalid_0's multi_logloss: 0.505163\n",
      "[187]\tvalid_0's multi_logloss: 0.505109\n",
      "[188]\tvalid_0's multi_logloss: 0.505164\n",
      "[189]\tvalid_0's multi_logloss: 0.505052\n",
      "[190]\tvalid_0's multi_logloss: 0.504947\n",
      "[191]\tvalid_0's multi_logloss: 0.504655\n",
      "[192]\tvalid_0's multi_logloss: 0.504151\n",
      "[193]\tvalid_0's multi_logloss: 0.503783\n",
      "[194]\tvalid_0's multi_logloss: 0.503397\n",
      "[195]\tvalid_0's multi_logloss: 0.503128\n",
      "[196]\tvalid_0's multi_logloss: 0.502474\n",
      "[197]\tvalid_0's multi_logloss: 0.502331\n",
      "[198]\tvalid_0's multi_logloss: 0.502423\n",
      "[199]\tvalid_0's multi_logloss: 0.50247\n",
      "[200]\tvalid_0's multi_logloss: 0.502225\n",
      "[201]\tvalid_0's multi_logloss: 0.501955\n",
      "[202]\tvalid_0's multi_logloss: 0.501894\n",
      "[203]\tvalid_0's multi_logloss: 0.501331\n",
      "[204]\tvalid_0's multi_logloss: 0.501345\n",
      "[205]\tvalid_0's multi_logloss: 0.501297\n",
      "[206]\tvalid_0's multi_logloss: 0.500809\n",
      "[207]\tvalid_0's multi_logloss: 0.501003\n",
      "[208]\tvalid_0's multi_logloss: 0.500896\n",
      "[209]\tvalid_0's multi_logloss: 0.500551\n",
      "[210]\tvalid_0's multi_logloss: 0.500052\n",
      "[211]\tvalid_0's multi_logloss: 0.49979\n",
      "[212]\tvalid_0's multi_logloss: 0.499632\n",
      "[213]\tvalid_0's multi_logloss: 0.499291\n",
      "[214]\tvalid_0's multi_logloss: 0.499305\n",
      "[215]\tvalid_0's multi_logloss: 0.499133\n",
      "[216]\tvalid_0's multi_logloss: 0.499027\n",
      "[217]\tvalid_0's multi_logloss: 0.498698\n",
      "[218]\tvalid_0's multi_logloss: 0.498441\n",
      "[219]\tvalid_0's multi_logloss: 0.498324\n",
      "[220]\tvalid_0's multi_logloss: 0.498059\n",
      "[221]\tvalid_0's multi_logloss: 0.497706\n",
      "[222]\tvalid_0's multi_logloss: 0.497526\n",
      "[223]\tvalid_0's multi_logloss: 0.497225\n",
      "[224]\tvalid_0's multi_logloss: 0.497288\n",
      "[225]\tvalid_0's multi_logloss: 0.497237\n",
      "[226]\tvalid_0's multi_logloss: 0.496912\n",
      "[227]\tvalid_0's multi_logloss: 0.49698\n",
      "[228]\tvalid_0's multi_logloss: 0.496907\n",
      "[229]\tvalid_0's multi_logloss: 0.496582\n",
      "[230]\tvalid_0's multi_logloss: 0.496399\n",
      "[231]\tvalid_0's multi_logloss: 0.496356\n",
      "[232]\tvalid_0's multi_logloss: 0.496177\n",
      "[233]\tvalid_0's multi_logloss: 0.496156\n",
      "[234]\tvalid_0's multi_logloss: 0.496029\n",
      "[235]\tvalid_0's multi_logloss: 0.495594\n",
      "[236]\tvalid_0's multi_logloss: 0.495341\n",
      "[237]\tvalid_0's multi_logloss: 0.495173\n",
      "[238]\tvalid_0's multi_logloss: 0.495101\n",
      "[239]\tvalid_0's multi_logloss: 0.494903\n",
      "[240]\tvalid_0's multi_logloss: 0.494811\n",
      "[241]\tvalid_0's multi_logloss: 0.494452\n",
      "[242]\tvalid_0's multi_logloss: 0.494474\n",
      "[243]\tvalid_0's multi_logloss: 0.49441\n",
      "[244]\tvalid_0's multi_logloss: 0.494099\n",
      "[245]\tvalid_0's multi_logloss: 0.494176\n",
      "[246]\tvalid_0's multi_logloss: 0.493938\n",
      "[247]\tvalid_0's multi_logloss: 0.493774\n",
      "[248]\tvalid_0's multi_logloss: 0.493605\n",
      "[249]\tvalid_0's multi_logloss: 0.493651\n",
      "[250]\tvalid_0's multi_logloss: 0.493404\n",
      "[251]\tvalid_0's multi_logloss: 0.493333\n",
      "[252]\tvalid_0's multi_logloss: 0.49296\n",
      "[253]\tvalid_0's multi_logloss: 0.492692\n",
      "[254]\tvalid_0's multi_logloss: 0.492356\n",
      "[255]\tvalid_0's multi_logloss: 0.492457\n",
      "[256]\tvalid_0's multi_logloss: 0.491956\n",
      "[257]\tvalid_0's multi_logloss: 0.492027\n",
      "[258]\tvalid_0's multi_logloss: 0.491988\n",
      "[259]\tvalid_0's multi_logloss: 0.491718\n",
      "[260]\tvalid_0's multi_logloss: 0.491596\n",
      "[261]\tvalid_0's multi_logloss: 0.491489\n",
      "[262]\tvalid_0's multi_logloss: 0.491511\n",
      "[263]\tvalid_0's multi_logloss: 0.491356\n",
      "[264]\tvalid_0's multi_logloss: 0.49116\n",
      "[265]\tvalid_0's multi_logloss: 0.490949\n",
      "[266]\tvalid_0's multi_logloss: 0.4911\n",
      "[267]\tvalid_0's multi_logloss: 0.491\n",
      "[268]\tvalid_0's multi_logloss: 0.490857\n",
      "[269]\tvalid_0's multi_logloss: 0.49067\n",
      "[270]\tvalid_0's multi_logloss: 0.490883\n",
      "[271]\tvalid_0's multi_logloss: 0.490857\n",
      "[272]\tvalid_0's multi_logloss: 0.490535\n",
      "[273]\tvalid_0's multi_logloss: 0.490215\n",
      "[274]\tvalid_0's multi_logloss: 0.490125\n",
      "[275]\tvalid_0's multi_logloss: 0.490081\n",
      "[276]\tvalid_0's multi_logloss: 0.490036\n",
      "[277]\tvalid_0's multi_logloss: 0.489793\n",
      "[278]\tvalid_0's multi_logloss: 0.489775\n",
      "[279]\tvalid_0's multi_logloss: 0.489698\n",
      "[280]\tvalid_0's multi_logloss: 0.489419\n",
      "[281]\tvalid_0's multi_logloss: 0.488969\n",
      "[282]\tvalid_0's multi_logloss: 0.488851\n",
      "[283]\tvalid_0's multi_logloss: 0.488609\n",
      "[284]\tvalid_0's multi_logloss: 0.488789\n",
      "[285]\tvalid_0's multi_logloss: 0.488944\n",
      "[286]\tvalid_0's multi_logloss: 0.488916\n",
      "[287]\tvalid_0's multi_logloss: 0.488865\n",
      "[288]\tvalid_0's multi_logloss: 0.488844\n",
      "[289]\tvalid_0's multi_logloss: 0.488813\n",
      "[290]\tvalid_0's multi_logloss: 0.48892\n",
      "[291]\tvalid_0's multi_logloss: 0.488818\n",
      "[292]\tvalid_0's multi_logloss: 0.488725\n",
      "[293]\tvalid_0's multi_logloss: 0.488656\n",
      "[294]\tvalid_0's multi_logloss: 0.48862\n",
      "[295]\tvalid_0's multi_logloss: 0.48842\n",
      "[296]\tvalid_0's multi_logloss: 0.48846\n",
      "[297]\tvalid_0's multi_logloss: 0.488392\n",
      "[298]\tvalid_0's multi_logloss: 0.488383\n",
      "[299]\tvalid_0's multi_logloss: 0.488492\n",
      "[300]\tvalid_0's multi_logloss: 0.488456\n",
      "[301]\tvalid_0's multi_logloss: 0.488334\n",
      "[302]\tvalid_0's multi_logloss: 0.488384\n",
      "[303]\tvalid_0's multi_logloss: 0.488466\n",
      "[304]\tvalid_0's multi_logloss: 0.488717\n",
      "[305]\tvalid_0's multi_logloss: 0.488638\n",
      "[306]\tvalid_0's multi_logloss: 0.488344\n",
      "[307]\tvalid_0's multi_logloss: 0.48809\n",
      "[308]\tvalid_0's multi_logloss: 0.487897\n",
      "[309]\tvalid_0's multi_logloss: 0.487753\n",
      "[310]\tvalid_0's multi_logloss: 0.487854\n",
      "[311]\tvalid_0's multi_logloss: 0.487669\n",
      "[312]\tvalid_0's multi_logloss: 0.487869\n",
      "[313]\tvalid_0's multi_logloss: 0.487815\n",
      "[314]\tvalid_0's multi_logloss: 0.488058\n",
      "[315]\tvalid_0's multi_logloss: 0.487964\n",
      "[316]\tvalid_0's multi_logloss: 0.487759\n",
      "[317]\tvalid_0's multi_logloss: 0.487829\n",
      "[318]\tvalid_0's multi_logloss: 0.487693\n",
      "[319]\tvalid_0's multi_logloss: 0.487721\n",
      "[320]\tvalid_0's multi_logloss: 0.487572\n",
      "[321]\tvalid_0's multi_logloss: 0.487611\n",
      "[322]\tvalid_0's multi_logloss: 0.48768\n",
      "[323]\tvalid_0's multi_logloss: 0.487493\n",
      "[324]\tvalid_0's multi_logloss: 0.487675\n",
      "[325]\tvalid_0's multi_logloss: 0.487851\n",
      "[326]\tvalid_0's multi_logloss: 0.487564\n",
      "[327]\tvalid_0's multi_logloss: 0.487521\n",
      "[328]\tvalid_0's multi_logloss: 0.487295\n",
      "[329]\tvalid_0's multi_logloss: 0.48725\n",
      "[330]\tvalid_0's multi_logloss: 0.487385\n",
      "[331]\tvalid_0's multi_logloss: 0.487507\n",
      "[332]\tvalid_0's multi_logloss: 0.487274\n",
      "[333]\tvalid_0's multi_logloss: 0.487416\n",
      "[334]\tvalid_0's multi_logloss: 0.487198\n",
      "[335]\tvalid_0's multi_logloss: 0.487135\n",
      "[336]\tvalid_0's multi_logloss: 0.487047\n",
      "[337]\tvalid_0's multi_logloss: 0.487294\n",
      "[338]\tvalid_0's multi_logloss: 0.487329\n",
      "[339]\tvalid_0's multi_logloss: 0.487275\n",
      "[340]\tvalid_0's multi_logloss: 0.48712\n",
      "[341]\tvalid_0's multi_logloss: 0.487129\n",
      "[342]\tvalid_0's multi_logloss: 0.487038\n",
      "[343]\tvalid_0's multi_logloss: 0.487041\n",
      "[344]\tvalid_0's multi_logloss: 0.487132\n",
      "[345]\tvalid_0's multi_logloss: 0.487077\n",
      "[346]\tvalid_0's multi_logloss: 0.487146\n",
      "[347]\tvalid_0's multi_logloss: 0.48697\n",
      "[348]\tvalid_0's multi_logloss: 0.487032\n",
      "[349]\tvalid_0's multi_logloss: 0.487375\n",
      "[350]\tvalid_0's multi_logloss: 0.487396\n",
      "[351]\tvalid_0's multi_logloss: 0.487531\n",
      "[352]\tvalid_0's multi_logloss: 0.487403\n",
      "[353]\tvalid_0's multi_logloss: 0.487428\n",
      "[354]\tvalid_0's multi_logloss: 0.487298\n",
      "[355]\tvalid_0's multi_logloss: 0.487241\n",
      "[356]\tvalid_0's multi_logloss: 0.487212\n",
      "[357]\tvalid_0's multi_logloss: 0.487293\n",
      "[358]\tvalid_0's multi_logloss: 0.487276\n",
      "[359]\tvalid_0's multi_logloss: 0.48728\n",
      "[360]\tvalid_0's multi_logloss: 0.487407\n",
      "[361]\tvalid_0's multi_logloss: 0.48736\n",
      "[362]\tvalid_0's multi_logloss: 0.487315\n",
      "[363]\tvalid_0's multi_logloss: 0.487212\n",
      "[364]\tvalid_0's multi_logloss: 0.48735\n",
      "[365]\tvalid_0's multi_logloss: 0.487361\n",
      "[366]\tvalid_0's multi_logloss: 0.487258\n",
      "[367]\tvalid_0's multi_logloss: 0.487166\n",
      "[368]\tvalid_0's multi_logloss: 0.48718\n",
      "[369]\tvalid_0's multi_logloss: 0.486989\n",
      "[370]\tvalid_0's multi_logloss: 0.486969\n",
      "[371]\tvalid_0's multi_logloss: 0.487225\n",
      "[372]\tvalid_0's multi_logloss: 0.487234\n",
      "[373]\tvalid_0's multi_logloss: 0.487573\n",
      "[374]\tvalid_0's multi_logloss: 0.487549\n",
      "[375]\tvalid_0's multi_logloss: 0.48738\n",
      "[376]\tvalid_0's multi_logloss: 0.487577\n",
      "[377]\tvalid_0's multi_logloss: 0.487609\n",
      "[378]\tvalid_0's multi_logloss: 0.487594\n",
      "[379]\tvalid_0's multi_logloss: 0.487489\n",
      "[380]\tvalid_0's multi_logloss: 0.487519\n",
      "[381]\tvalid_0's multi_logloss: 0.487534\n",
      "[382]\tvalid_0's multi_logloss: 0.487571\n",
      "[383]\tvalid_0's multi_logloss: 0.487696\n",
      "[384]\tvalid_0's multi_logloss: 0.487661\n",
      "[385]\tvalid_0's multi_logloss: 0.487565\n",
      "[386]\tvalid_0's multi_logloss: 0.487275\n",
      "[387]\tvalid_0's multi_logloss: 0.487485\n",
      "[388]\tvalid_0's multi_logloss: 0.48778\n",
      "[389]\tvalid_0's multi_logloss: 0.487904\n",
      "[390]\tvalid_0's multi_logloss: 0.48774\n",
      "[391]\tvalid_0's multi_logloss: 0.487288\n",
      "[392]\tvalid_0's multi_logloss: 0.487414\n",
      "[393]\tvalid_0's multi_logloss: 0.487242\n",
      "[394]\tvalid_0's multi_logloss: 0.487057\n",
      "[395]\tvalid_0's multi_logloss: 0.486853\n",
      "[396]\tvalid_0's multi_logloss: 0.486876\n",
      "[397]\tvalid_0's multi_logloss: 0.486759\n",
      "[398]\tvalid_0's multi_logloss: 0.486986\n",
      "[399]\tvalid_0's multi_logloss: 0.486975\n",
      "[400]\tvalid_0's multi_logloss: 0.486828\n"
     ]
    }
   ],
   "source": [
    "gbm = lgb.train(params, lgb_train, valid_sets=[lgb_valid])"
   ]
  },
  {
   "cell_type": "markdown",
   "metadata": {},
   "source": [
    "<br>"
   ]
  },
  {
   "cell_type": "markdown",
   "metadata": {},
   "source": [
    "## <a id='predict_6c'></a> 4. Predict cloud classes with the trained lightGBM model"
   ]
  },
  {
   "cell_type": "markdown",
   "metadata": {},
   "source": [
    "Above, you can see that at about iteration 380 the model **overfits**. This means that the model starts to memorize the training set and its performance on unseen data (e.g. validation data) decreases. The model with the highest performance to make cloud class predictions is the one where the `validation loss` is lowest. The best model can be identified with `gbm.best_iteration`. \n",
    "\n",
    "\n",
    "Hence, you want to use the best model to make predictions on the `training`, `validation` and `test` data subsets. At a later stage, you can then evaluate the model's performance to predict the respective data subsets.\n",
    "\n",
    "The function `gbm.predict()` allows you to predict cloud types based on the trained `lightGBM` model and the training, validation and test input data respectively."
   ]
  },
  {
   "cell_type": "code",
   "execution_count": 17,
   "metadata": {},
   "outputs": [],
   "source": [
    "train_prob_pred = gbm.predict(train_xs, num_iteration = gbm.best_iteration)\n",
    "val_prob_pred = gbm.predict(val_xs, num_iteration = gbm.best_iteration)\n",
    "test_prob_pred = gbm.predict(test_xs, num_iteration = gbm.best_iteration)"
   ]
  },
  {
   "cell_type": "code",
   "execution_count": 18,
   "metadata": {},
   "outputs": [
    {
     "data": {
      "text/plain": [
       "((46040, 8), (5116, 8), (12789, 8))"
      ]
     },
     "execution_count": 18,
     "metadata": {},
     "output_type": "execute_result"
    }
   ],
   "source": [
    "train_prob_pred.shape, val_prob_pred.shape, test_prob_pred.shape"
   ]
  },
  {
   "cell_type": "markdown",
   "metadata": {},
   "source": [
    "<br>"
   ]
  },
  {
   "cell_type": "markdown",
   "metadata": {},
   "source": [
    "The prediction process returns for each input tile a vector indicating the probability of each of the eight cloud classes. The predicted cloud class is hence the cloud type/class with the highest probability. You can select the maximum argument of a numpy array with the function `argmax()`."
   ]
  },
  {
   "cell_type": "code",
   "execution_count": 19,
   "metadata": {},
   "outputs": [],
   "source": [
    "train_y_pred = np.argmax(train_prob_pred, 1)\n",
    "val_y_pred = np.argmax(val_prob_pred, 1)\n",
    "test_y_pred = np.argmax(test_prob_pred, 1)"
   ]
  },
  {
   "cell_type": "code",
   "execution_count": 20,
   "metadata": {},
   "outputs": [
    {
     "data": {
      "text/plain": [
       "((46040,), (5116,), (12789,))"
      ]
     },
     "execution_count": 20,
     "metadata": {},
     "output_type": "execute_result"
    }
   ],
   "source": [
    "train_y_pred.shape, val_y_pred.shape, test_y_pred.shape"
   ]
  },
  {
   "cell_type": "markdown",
   "metadata": {},
   "source": [
    "<br>"
   ]
  },
  {
   "cell_type": "markdown",
   "metadata": {},
   "source": [
    "## <a id='model_evaluation_6c'></a>5. Model evaluation"
   ]
  },
  {
   "cell_type": "markdown",
   "metadata": {},
   "source": [
    "An important step after the prediction process is to evaluate the predicted cloud classes. Let us start with creating and analysing the `confusion matrices` for the predictions based on `training`, `validation` and `test` input data. A confusion matrix is a common table layout that allows the visualisation of the performance of an algorithm.\n",
    "\n",
    "Each component `c[i,j]` of a confusion matrix is equal to the ratio of tiles of class `i` that have been classified as class `j`.\n",
    "This means that on the diagonal of the confusion matrix, we have the ratio of tiles that have been correctly classified, while on the rest of the matrix we see how often tiles of a target class are misclassified as belonging to another particular class. \n",
    "\n",
    "The built-in sklearn's function `confusion_matrix()` can be called to compute a confusion matrix, providing the following arguments:\n",
    "- a vector of groundtruth classes\n",
    "- a vector of the same size of predicted classes\n",
    "- `labels`: the classes for which the scores are computed\n",
    "- `normalize='true'` to return ratios instead of counts\n"
   ]
  },
  {
   "cell_type": "code",
   "execution_count": 21,
   "metadata": {},
   "outputs": [],
   "source": [
    "train_cm = confusion_matrix(train_ys, train_y_pred, labels=range(8), normalize='true')\n",
    "val_cm = confusion_matrix(val_ys, val_y_pred, labels=range(8), normalize='true')\n",
    "test_cm = confusion_matrix(test_ys, test_y_pred, labels=range(8), normalize='true')"
   ]
  },
  {
   "cell_type": "markdown",
   "metadata": {},
   "source": [
    "<br>"
   ]
  },
  {
   "cell_type": "markdown",
   "metadata": {},
   "source": [
    "The next step is to visualize the three confusion matrices as `heatmap`. You can use the function `heatmap()` from the seaborn library to visualise a confusion matrix."
   ]
  },
  {
   "cell_type": "code",
   "execution_count": 22,
   "metadata": {},
   "outputs": [
    {
     "data": {
      "image/png": "[encoded data removed]",
      "text/plain": [
       "<Figure size 1440x360 with 6 Axes>"
      ]
     },
     "metadata": {
      "needs_background": "light"
     },
     "output_type": "display_data"
    }
   ],
   "source": [
    "plt.figure(figsize = (20,5))\n",
    "\n",
    "for i, (label, cm) in enumerate(zip([\"TRAINING\", \"VALIDATION\", \"TEST\"], [train_cm, val_cm, test_cm])):\n",
    "    plt.subplot(131+i)\n",
    "\n",
    "    df_cm = pd.DataFrame(cm, index=range(8), columns=range(8))\n",
    "\n",
    "    plt.title(label)\n",
    "    ax = sn.heatmap(df_cm, annot=True, vmin=0, vmax=1)\n",
    "    ax.set(xlabel='predicted', ylabel='target')"
   ]
  },
  {
   "cell_type": "markdown",
   "metadata": {},
   "source": [
    "<br>"
   ]
  },
  {
   "cell_type": "markdown",
   "metadata": {},
   "source": [
    "The confusion matrices above show that the `LightGBM` was able to almost perfectly fit the training data. However on the validation and test data subsets, the predictability of the model is lower. In particular, the model shows good performance on class `0 - Cirrus`, while tiles of class `7 - Deep Convection` are often missclassified as class `0 - Cirrus` or `1 - Altostratus`."
   ]
  },
  {
   "cell_type": "markdown",
   "metadata": {},
   "source": [
    "Further, you can evaluate the perfomance of the model using two metrics that are standard for assessing the quality of Machine Learning classifiers:\n",
    "- `accuracy`: the general rate of correctly classified tiles\n",
    "- average `F1 score`: a metric that accounts for `model precision` (the ratio of true positives over all positives) and `recall` (the ratio of true positives over all tiles of that class) for each cloud type\n",
    "\n",
    "You can use the the functions `accuracy_score()` and `f1_score()` from the scikit-learn library to calculate the two metrics. `F1 Score` can range from [0, 1], which 1 indicating perfect precision and recall. Thus, the higher the `F1 score` the better.\n",
    "\n",
    "The accuracy score is around 0.84 and indicates that the model is 84% accurate."
   ]
  },
  {
   "cell_type": "code",
   "execution_count": 23,
   "metadata": {},
   "outputs": [
    {
     "name": "stdout",
     "output_type": "stream",
     "text": [
      "Test accuracy: 0.8420517632340292\n",
      "Test f1 score: 0.7633565206406072\n"
     ]
    }
   ],
   "source": [
    "accuracy = accuracy_score(test_ys, test_y_pred)\n",
    "f1 = f1_score(test_ys, test_y_pred, average='macro')\n",
    "\n",
    "print(\"Test accuracy:\", accuracy)\n",
    "print(\"Test f1 score:\", f1)"
   ]
  },
  {
   "cell_type": "markdown",
   "metadata": {},
   "source": [
    "<br>"
   ]
  },
  {
   "cell_type": "markdown",
   "metadata": {},
   "source": [
    "<br>"
   ]
  },
  {
   "cell_type": "markdown",
   "metadata": {},
   "source": [
    "<a href=\"https://www.futurelearn.com/courses/artificial-intelligence-for-earth-monitoring/1/steps/1212878\"><< Back to FutureLearn</a><br>"
   ]
  },
  {
   "cell_type": "markdown",
   "metadata": {},
   "source": [
    "<hr>"
   ]
  },
  {
   "cell_type": "markdown",
   "metadata": {},
   "source": [
    "<img src='../../img/copernicus_logo.png' alt='Copernicus logo' align='left' width='20%'></img>"
   ]
  },
  {
   "cell_type": "markdown",
   "metadata": {},
   "source": [
    "Course developed for [EUMETSAT](https://www.eumetsat.int/), [ECMWF](https://www.ecmwf.int/) and [Mercator Ocean International](https://www.mercator-ocean.fr/en/) in support of the [EU’s Copernicus Programme](https://www.copernicus.eu/en) and the [WEkEO platform](https://wekeo.eu/).\n"
   ]
  }
 ],
 "metadata": {
  "kernelspec": {
   "display_name": "Python 3",
   "language": "python",
   "name": "python3"
  },
  "language_info": {
   "codemirror_mode": {
    "name": "ipython",
    "version": 3
   },
   "file_extension": ".py",
   "mimetype": "text/x-python",
   "name": "python",
   "nbconvert_exporter": "python",
   "pygments_lexer": "ipython3",
   "version": "3.8.10"
  },
 "tags": {
"domain": "Machine Learning",
"category": "training",
"algorithm": "Gradient Boosting",
"framework": "Scikit-Learn",
"data": "MODIS"
},
  "title": "Global cloud classification with CUMULO",
  "description": "In this workflow, we are going to train a Machine Learning model (Gradient Boosting of Decision Trees) for classifying clouds into one of the eight World Meteorological Organization (WMO) genera.",
  "image": "./img_16.png",
  "link": "https://jupyterhub-wekeo.apps.eumetsat.dpi.wekeo.eu/hub/user-redirect/lab/tree/public/ML/6_climate/6C_cumulo_cloud_classification/6C_cumulo_cloud_classification.ipynb",
  "github": "https://github.com/wekeo/ai4EM_MOOC/blob/main/6_climate/6C_cumulo_cloud_classification/6C_cumulo_cloud_classification.ipynb"
 },
 "nbformat": 4,
 "nbformat_minor": 4
}
